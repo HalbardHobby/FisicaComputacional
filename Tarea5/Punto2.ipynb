{
 "metadata": {
  "name": ""
 },
 "nbformat": 3,
 "nbformat_minor": 0,
 "worksheets": [
  {
   "cells": [
    {
     "cell_type": "code",
     "collapsed": false,
     "input": [
      "%pylab inline\n",
      "import matplotlib.pyplot as plt\n",
      "from scipy.interpolate import interp1d as intpl\n",
      "#As\u00ed inicia la nueva era."
     ],
     "language": "python",
     "metadata": {},
     "outputs": [
      {
       "output_type": "stream",
       "stream": "stdout",
       "text": [
        "Populating the interactive namespace from numpy and matplotlib\n"
       ]
      }
     ],
     "prompt_number": 23
    },
    {
     "cell_type": "code",
     "collapsed": false,
     "input": [
      "#Abrir y leer la bitacora.\n",
      "journal = open('sparse_sample_monthrg.dat','r')\n",
      "entry=journal.readlines()\n",
      "journal.close()\n",
      "\n",
      "for i in range(0,len(entry)):\n",
      "    entry[i]=entry[i].strip().split(' ')\n",
      "    entry[i][3]=double(entry[i][3])\n",
      "    for j in range (0,3):\n",
      "        entry[i][j]=int(entry[i][j])\n",
      "\n",
      "zero=entry[0][0]#todo viaje empieza en alg\u00fan momento\n",
      "last=entry[-1][0]\n",
      "print zero,last"
     ],
     "language": "python",
     "metadata": {},
     "outputs": [
      {
       "output_type": "stream",
       "stream": "stdout",
       "text": [
        "1610 1995\n"
       ]
      }
     ],
     "prompt_number": 20
    },
    {
     "cell_type": "code",
     "collapsed": false,
     "input": [
      "#Ahora se transcribe la bitacora.\n",
      "fechas=[]\n",
      "observ=[]\n",
      "for dato in entry:\n",
      "    if (dato[2]>0):\n",
      "        date=((dato[0]-zero)*12)+dato[1]-1\n",
      "        fechas.append(date)\n",
      "        observ.append(dato[3])\n",
      "\n",
      "#Ahora ver los datos\n",
      "plot(fechas,observ, 'ko', markersize=1)\n",
      "ax = axes()\n",
      "ax.set_xlabel(\"$Periodo$\",fontsize=20)\n",
      "ax.set_ylabel(\"$Promedio\\ Manchas$\",fontsize=20)\n",
      "ax.set_title(\"$\\mathrm{Datos\\ historicos}$\", fontsize=20)"
     ],
     "language": "python",
     "metadata": {},
     "outputs": [
      {
       "metadata": {},
       "output_type": "pyout",
       "prompt_number": 15,
       "text": [
        "<matplotlib.text.Text at 0x2c9aed0>"
       ]
      },
      {
       "metadata": {},
       "output_type": "display_data",
       "png": "[encoded data removed]",
       "text": [
        "<matplotlib.figure.Figure at 0x28fbe90>"
       ]
      }
     ],
     "prompt_number": 15
    },
    {
     "cell_type": "code",
     "collapsed": false,
     "input": [
      "#Se generan los nuevos intervalos equidistantes.\n",
      "remaster=np.arange(fechas[0],fechas[-1], 1)#si remasterizar es mejorar un poco las cosas..."
     ],
     "language": "python",
     "metadata": {},
     "outputs": [],
     "prompt_number": 32
    },
    {
     "cell_type": "code",
     "collapsed": false,
     "input": [
      "#se genera la interpolaci\u00f3n lineal\n",
      "insatisfactorio=intpl(fechas, observ)#Ya que el metodo es ordinario...\n",
      "#y eso por no decir troll\n",
      "obs_lin=insatisfactorio(remaster)"
     ],
     "language": "python",
     "metadata": {},
     "outputs": [],
     "prompt_number": 35
    },
    {
     "cell_type": "code",
     "collapsed": false,
     "input": [
      "#ahora vamos con una un poco m\u00e1s decente\n",
      "apenas=intpl(fechas, observ, kind='quadratic')\n",
      "obs_cuad=apenas(remaster)"
     ],
     "language": "python",
     "metadata": {},
     "outputs": [],
     "prompt_number": 38
    },
    {
     "cell_type": "code",
     "collapsed": false,
     "input": [
      "#Y no s\u00e9 si esta sera un poco de overkill\n",
      "supera_espectativas=intpl(fechas, observ, kind='cubic')\n",
      "obs_cuad=supera_espectativas(remaster)"
     ],
     "language": "python",
     "metadata": {},
     "outputs": [],
     "prompt_number": 40
    },
    {
     "cell_type": "code",
     "collapsed": false,
     "input": [],
     "language": "python",
     "metadata": {},
     "outputs": []
    }
   ],
   "metadata": {}
  }
 ]
}