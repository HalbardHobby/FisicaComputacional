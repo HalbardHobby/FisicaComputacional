{
 "metadata": {
  "name": ""
 },
 "nbformat": 3,
 "nbformat_minor": 0,
 "worksheets": [
  {
   "cells": [
    {
     "cell_type": "code",
     "collapsed": false,
     "input": [
      "%pylab inline"
     ],
     "language": "python",
     "metadata": {},
     "outputs": [
      {
       "output_type": "stream",
       "stream": "stdout",
       "text": [
        "Populating the interactive namespace from numpy and matplotlib\n"
       ]
      },
      {
       "output_type": "stream",
       "stream": "stderr",
       "text": [
        "WARNING: pylab import has clobbered these variables: ['beta']\n",
        "`%pylab --no-import-all` prevents importing * from pylab and numpy\n"
       ]
      }
     ],
     "prompt_number": 14
    },
    {
     "cell_type": "code",
     "collapsed": false,
     "input": [
      "dat=open('dimer_observations.dat','r').readlines()\n",
      "t=[]\n",
      "p=[]\n",
      "for d in dat:\n",
      "    p1=d.split()\n",
      "    t.append(double(p1[0]))\n",
      "    p.append(double(p1[1]))\n",
      "    \n",
      "xlim(t[0],t[-1])\n",
      "plot(t,p)\n",
      "plot(t,p,'ko')"
     ],
     "language": "python",
     "metadata": {},
     "outputs": [
      {
       "metadata": {},
       "output_type": "pyout",
       "prompt_number": 15,
       "text": [
        "[<matplotlib.lines.Line2D at 0x401fd50>]"
       ]
      },
      {
       "metadata": {},
       "output_type": "display_data",
       "png": "[encoded data removed]",
       "text": [
        "<matplotlib.figure.Figure at 0x3cbfbd0>"
       ]
      }
     ],
     "prompt_number": 15
    },
    {
     "cell_type": "code",
     "collapsed": false,
     "input": [
      "#inicializando las variables del paper\n",
      "alpha=rand()\n",
      "beta=rand()\n",
      "s0=rand()\n",
      "km1=rand()\n",
      "km2=rand()\n",
      "\n",
      "#las cosas del runge kuttaa\n",
      "h=0.005\n",
      "n_punt=int((t[-1]-t[0])/h)+1\n",
      "t_r=linspace(t[0],t[-1],n_punt)\n",
      "\n",
      "\n",
      "print n_punt"
     ],
     "language": "python",
     "metadata": {},
     "outputs": [
      {
       "output_type": "stream",
       "stream": "stdout",
       "text": [
        "5601\n"
       ]
      }
     ],
     "prompt_number": 72
    },
    {
     "cell_type": "code",
     "collapsed": false,
     "input": [
      "def p_prime(p,t):#se supone que calcula la diferencial como est\u00e1 especificad en el paper\n",
      "    p0=alpha*(s0-p)\n",
      "    p1=km1+s0-p\n",
      "    p2=(beta*p)/(km2+p)\n",
      "    return (p0/p1)-p2\n",
      "\n",
      "def paso_runge_kutta(p,t):#esta vaina son muchos puntos\n",
      "    k1=p_prime(p,t)#el primero si es facil\n",
      "    #vamos por el segundo\n",
      "    t_t=t+(h/2)\n",
      "    p_t=p+(h/2*k1)\n",
      "    k2=p_prime(p_t,t_t)\n",
      "    \n",
      "    p_t=p+(h/2*k2)\n",
      "    k3=p_prime(p_t,t_t)\n",
      "    \n",
      "    t_t=t+h\n",
      "    p_t=p+(h*k3)\n",
      "    k4=p_prime(p_t,t_t)\n",
      "    \n",
      "    return (k1+(2*k2)+(2*k3)+k4)/6\n",
      "\n",
      "def simular():\n",
      "    p_r=zeros(n_punt)\n",
      "    p_r[0]=p[0]\n",
      "    for i in range(n_punt-1):\n",
      "        p_r[i+1]=p_r[i]+(h*paso_runge_kutta(p_r[i],t_r[i]))\n",
      "    return p_r\n",
      "\n",
      "def cost_j(p_r):\n",
      "    pos=[]\n",
      "    for ti in t:\n",
      "        pos.append(where(t_r==ti))\n",
      "    chi=0\n",
      "    for i in range(len(pos)):\n",
      "        chi+=(p[i]-p_r[pos[i][0]])**2\n",
      "    return float(chi/len(pos))"
     ],
     "language": "python",
     "metadata": {},
     "outputs": [],
     "prompt_number": 17
    },
    {
     "cell_type": "code",
     "collapsed": false,
     "input": [
      "p_t=simular()\n",
      "plot(t_r,p_t)\n",
      "plot(t,p)\n",
      "plot(t,p,'ko')\n",
      "cost= cost_j(p_t)\n",
      "print cost"
     ],
     "language": "python",
     "metadata": {},
     "outputs": [
      {
       "output_type": "stream",
       "stream": "stdout",
       "text": [
        "100.0\n"
       ]
      },
      {
       "metadata": {},
       "output_type": "display_data",
       "png": "[encoded data removed]",
       "text": [
        "<matplotlib.figure.Figure at 0x843b750>"
       ]
      }
     ],
     "prompt_number": 92
    },
    {
     "cell_type": "code",
     "collapsed": false,
     "input": [
      "#ahora empezamos con el descenso gradiente.\n",
      "#preimero inicializar historicos de las variables\n",
      "alpha_h=[]\n",
      "alpha_h.append(alpha)\n",
      "beta_h=[]\n",
      "beta_h.append(beta)\n",
      "s0_h=[]\n",
      "s0_h.append(s0)\n",
      "km1_h=[]\n",
      "km1_h.append(km1)\n",
      "km2_h=[]\n",
      "km2_h.append(km2)\n",
      "cos_h=[]\n",
      "cos_h.append(cost)\n",
      "\n",
      "#y las variables que necesita\n",
      "delta=0.1\n",
      "a=0.01"
     ],
     "language": "python",
     "metadata": {},
     "outputs": [],
     "prompt_number": 93
    },
    {
     "cell_type": "code",
     "collapsed": false,
     "input": [
      "for _ in range(20):\n",
      "    alpha-=alpha-(a*cost*alpha)\n",
      "    beta-=beta-(a*cost*beta)\n",
      "    s0-=s0-(a*cost*s0)\n",
      "    km1-=km1-(a*cost*km1)\n",
      "    km2-=km2-(a*cost*km2)\n",
      "    \n",
      "    alpha_h.append(alpha)\n",
      "    beta_h.append(beta)\n",
      "    s0_h.append(s0)\n",
      "    km1_h.append(km1)\n",
      "    km2_h.append(km2)\n",
      "    \n",
      "    p_t=simular()\n",
      "    cost= cost_j(p_t)\n",
      "    cos_h.append(cost)"
     ],
     "language": "python",
     "metadata": {},
     "outputs": [],
     "prompt_number": 95
    },
    {
     "cell_type": "code",
     "collapsed": false,
     "input": [
      "print cost\n",
      "plot(t,p)\n",
      "plot(t,p,'ko')\n",
      "plot(t_r,p_t)"
     ],
     "language": "python",
     "metadata": {},
     "outputs": [
      {
       "output_type": "stream",
       "stream": "stdout",
       "text": [
        "100.0\n"
       ]
      },
      {
       "metadata": {},
       "output_type": "pyout",
       "prompt_number": 96,
       "text": [
        "[<matplotlib.lines.Line2D at 0x8438810>]"
       ]
      },
      {
       "metadata": {},
       "output_type": "display_data",
       "png": "[encoded data removed]",
       "text": [
        "<matplotlib.figure.Figure at 0x82ea4d0>"
       ]
      }
     ],
     "prompt_number": 96
    },
    {
     "cell_type": "code",
     "collapsed": false,
     "input": [
      "print alpha, beta, s0, km1, km2"
     ],
     "language": "python",
     "metadata": {},
     "outputs": [
      {
       "output_type": "stream",
       "stream": "stdout",
       "text": [
        "1.63726685772 2.38194837887 3.61454760167 3.78254714883 0.677175968025\n"
       ]
      }
     ],
     "prompt_number": 97
    },
    {
     "cell_type": "code",
     "collapsed": false,
     "input": [
      "#y he ahi un minimo local."
     ],
     "language": "python",
     "metadata": {},
     "outputs": []
    }
   ],
   "metadata": {}
  }
 ]
}