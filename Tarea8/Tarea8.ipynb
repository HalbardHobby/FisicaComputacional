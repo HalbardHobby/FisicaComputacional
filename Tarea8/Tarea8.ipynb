{
 "metadata": {
  "name": ""
 },
 "nbformat": 3,
 "nbformat_minor": 0,
 "worksheets": [
  {
   "cells": [
    {
     "cell_type": "code",
     "collapsed": false,
     "input": [
      "%pylab inline"
     ],
     "language": "python",
     "metadata": {},
     "outputs": [
      {
       "output_type": "stream",
       "stream": "stdout",
       "text": [
        "Populating the interactive namespace from numpy and matplotlib\n"
       ]
      }
     ],
     "prompt_number": 1
    },
    {
     "cell_type": "code",
     "collapsed": false,
     "input": [
      "dat=open('dimer_observations.dat','r').readlines()\n",
      "t=[]\n",
      "p=[]\n",
      "for d in dat:\n",
      "    p1=d.split()\n",
      "    t.append(double(p1[0]))\n",
      "    p.append(double(p1[1]))\n",
      "    \n",
      "xlim(t[0],t[-1])\n",
      "plot(t,p)\n",
      "plot(t,p,'ko')"
     ],
     "language": "python",
     "metadata": {},
     "outputs": [
      {
       "metadata": {},
       "output_type": "pyout",
       "prompt_number": 10,
       "text": [
        "[<matplotlib.lines.Line2D at 0x2034190>]"
       ]
      },
      {
       "metadata": {},
       "output_type": "display_data",
       "png": "[encoded data removed]",
       "text": [
        "<matplotlib.figure.Figure at 0x2d5b810>"
       ]
      }
     ],
     "prompt_number": 10
    },
    {
     "cell_type": "code",
     "collapsed": false,
     "input": [
      "#inicializando las variables del paper\n",
      "alpha=0.5\n",
      "beta=0.5\n",
      "s0=0.5\n",
      "km1=0.5\n",
      "km2=0.5\n",
      "\n",
      "#las cosas del runge kuttaa\n",
      "h=0.005\n",
      "n_punt=int((t[-1]-t[0])/h)\n",
      "print n_punt"
     ],
     "language": "python",
     "metadata": {},
     "outputs": [
      {
       "output_type": "stream",
       "stream": "stdout",
       "text": [
        "5600\n"
       ]
      }
     ],
     "prompt_number": 30
    },
    {
     "cell_type": "code",
     "collapsed": false,
     "input": [
      "def p_prime(p,t):#se supone que calcula la diferencial como est\u00e1 especificad en el paper\n",
      "    p0=alpha*(s0-p)\n",
      "    p1=km1+s0-p\n",
      "    p2=(beta*p)/(km2+p)\n",
      "    return (p0/p1)-p2\n",
      "\n",
      "def paso_runge_kutta(p,t):#esta vaina son muchos puntos\n",
      "    k1=p_prime(p,t)#el primero si es facil\n",
      "    #vamos por el segundo\n",
      "    t_t=t+(h/2)\n",
      "    p_t=p+(h/2*k1)\n",
      "    k2=p_prime(p_t,t_t)\n",
      "    \n",
      "    p_t=p+(h/2*k2)\n",
      "    k3=p_prime(p_t,t_t)\n",
      "    \n",
      "    t_t=t+h\n",
      "    p_t=p+(h*k3)\n",
      "    k4=p_prime(p_t,t_t)\n",
      "    \n",
      "    return (k1+(2*k2)+(2*k3)+k4)/6\n",
      "\n",
      "def simular();\n",
      "    t_r=linspace(t[0],t[-1],n_punt)\n",
      "    p_r=zeros(n_punt)\n",
      "    p_r[0]=p[0]\n",
      "    \n",
      "    for i in range(n_punt-1):\n",
      "        p_r[i+1]=paso_runge_kutta(p_r[i],t_r[i])\n",
      "    return (t_r,p_r)"
     ],
     "language": "python",
     "metadata": {},
     "outputs": [],
     "prompt_number": 31
    },
    {
     "cell_type": "code",
     "collapsed": false,
     "input": [],
     "language": "python",
     "metadata": {},
     "outputs": []
    }
   ],
   "metadata": {}
  }
 ]
}