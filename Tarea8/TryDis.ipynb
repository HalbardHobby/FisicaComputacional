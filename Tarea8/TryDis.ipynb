{
 "metadata": {
  "name": "TryDis"
 },
 "nbformat": 3,
 "nbformat_minor": 0,
 "worksheets": [
  {
   "cells": [
    {
     "cell_type": "code",
     "collapsed": false,
     "input": [
      "%pylab inline"
     ],
     "language": "python",
     "metadata": {},
     "outputs": [
      {
       "output_type": "stream",
       "stream": "stdout",
       "text": [
        "\n",
        "Welcome to pylab, a matplotlib-based Python environment [backend: module://IPython.zmq.pylab.backend_inline].\n",
        "For more information, type 'help(pylab)'.\n"
       ]
      }
     ],
     "prompt_number": 1
    },
    {
     "cell_type": "markdown",
     "metadata": {},
     "source": [
      "Cargar los datos y posicionarlos en columnas de tiempo y posicion. ($t, p$)"
     ]
    },
    {
     "cell_type": "code",
     "collapsed": false,
     "input": [
      "data = loadtxt(\"dimer_observations.dat\")\n",
      "t = data[:,0]\n",
      "p = data[:,1]\n",
      "numData=shape(data)[0]\n",
      "\n",
      "##################\n",
      "#Necesario??\n",
      "limT1=t[0]\n",
      "limT2=t[-1]\n",
      "print limT1, limT2\n",
      "##################\n",
      "\n",
      "\n",
      "xlim(t[0],t[-1])\n",
      "plot(t,p)\n",
      "plot(t,p,'ko')"
     ],
     "language": "python",
     "metadata": {},
     "outputs": [
      {
       "output_type": "stream",
       "stream": "stdout",
       "text": [
        "2.0 30.0\n"
       ]
      },
      {
       "output_type": "pyout",
       "prompt_number": 12,
       "text": [
        "[<matplotlib.lines.Line2D at 0xa9fbc8c>]"
       ]
      },
      {
       "output_type": "display_data",
       "png": "[encoded data removed]"
      }
     ],
     "prompt_number": 12
    },
    {
     "cell_type": "markdown",
     "metadata": {},
     "source": [
      "Se define una funcion que encuentre el $X^2$ de los valores del modelo y los reales."
     ]
    },
    {
     "cell_type": "code",
     "collapsed": false,
     "input": [
      "def buscado(y_obs, y_model):\n",
      "    chi_squared = sum((y_obs-y_model)**2)\n",
      "    return exp(-chi_squared)"
     ],
     "language": "python",
     "metadata": {},
     "outputs": [],
     "prompt_number": 8
    },
    {
     "cell_type": "markdown",
     "metadata": {},
     "source": [
      "Que exactamente es la varianza $\\sigma _i$ que debe ser dividida en la funcion???, al parecer en este caso fue -1"
     ]
    },
    {
     "cell_type": "heading",
     "level": 4,
     "metadata": {},
     "source": [
      "RungeKutta:"
     ]
    },
    {
     "cell_type": "code",
     "collapsed": false,
     "input": [
      "#definicion de la funcion p' \n",
      "def p_prime(p,t,alpha,beta,s0,km1,km2):\n",
      "    p0=alpha*(s0-p)\n",
      "    p1=km1+s0-p\n",
      "    p2=(beta*p)/(km2+p)\n",
      "    return (p0/p1)-p2\n",
      "\n",
      "\n",
      "#pasos del RungeKutta\n",
      "h=0.005\n",
      "n_punt=int(((t[-1]-t[0])+h)/h)\n",
      "print n_punt"
     ],
     "language": "python",
     "metadata": {},
     "outputs": [
      {
       "output_type": "stream",
       "stream": "stdout",
       "text": [
        "5601\n"
       ]
      }
     ],
     "prompt_number": 20
    },
    {
     "cell_type": "code",
     "collapsed": false,
     "input": [
      "#definicion del metodo RungeKutta\n",
      "def paso_runge_kutta(p,t,alpha,beta,s0,km1,km2):\n",
      "    \n",
      "    k1=p_prime(p,t,alpha,beta,s0,km1,km2)\n",
      "    \n",
      "    #Primer paso\n",
      "    t_t=t+(h/2.0)\n",
      "    p_t=p+(h/2.0*k1)\n",
      "    k2=p_prime(p_t,t_t,alpha,beta,s0,km1,km2)\n",
      "    \n",
      "    #Segundo\n",
      "    p_t=p+(h/2.0*k2)\n",
      "    k3=p_prime(p_t,t_t,alpha,beta,s0,km1,km2)\n",
      "    \n",
      "    #Tercero\n",
      "    t_t=t+h\n",
      "    p_t=p+(h*k3)\n",
      "    k4=p_prime(p_t,t_t,alpha,beta,s0,km1,km2)\n",
      "    \n",
      "    #Cuarto\n",
      "    k_ave=(k1+(2.0*k2)+(2.0*k3)+k4)/6.0\n",
      "    \n",
      "    t_new = t + h\n",
      "    p_new = p+(h*k_ave) \n",
      "    return t_new, p_new\n"
     ],
     "language": "python",
     "metadata": {},
     "outputs": [],
     "prompt_number": 25
    },
    {
     "cell_type": "heading",
     "level": 1,
     "metadata": {},
     "source": [
      "--------------------------------------------------------------------------"
     ]
    },
    {
     "cell_type": "heading",
     "level": 3,
     "metadata": {},
     "source": [
      "$\\!!!!!$ \n",
      "Definir metodo que crea lista de datos obs usando el RungeKutta,\n",
      "Usa como parametros de entrada: "
     ]
    },
    {
     "cell_type": "heading",
     "level": 3,
     "metadata": {},
     "source": [
      "$p,t,alpha,beta,s0,km1,km2$"
     ]
    },
    {
     "cell_type": "heading",
     "level": 3,
     "metadata": {},
     "source": [
      "Luego, saca una lista de datos que pasaron por el RungeKutta"
     ]
    },
    {
     "cell_type": "heading",
     "level": 1,
     "metadata": {},
     "source": [
      "--------------------------------------------------------------------------"
     ]
    },
    {
     "cell_type": "heading",
     "level": 4,
     "metadata": {},
     "source": [
      "Estimacion Bayesiana de Parametros"
     ]
    },
    {
     "cell_type": "markdown",
     "metadata": {},
     "source": [
      "Inicializacion de constantes:"
     ]
    },
    {
     "cell_type": "code",
     "collapsed": false,
     "input": [
      "alpha_walk = empty((0))\n",
      "beta_walk = empty((0))\n",
      "km1_walk = empty((0))\n",
      "km2_walk = empty((0))\n",
      "s0_walk = empty((0))\n",
      "#Quiza sea necesaria la constante post integracion?\n",
      "Cons_walk = empty((0))\n",
      "\n",
      "#Inicializar las variables del paper\n",
      "ini=0.5\n",
      "\n",
      "alpha_walk = append(alpha_walk,ini)\n",
      "beta_walk = append(beta_walk,ini)\n",
      "km1_walk =append(km1_walk,ini)\n",
      "km2_walk = append(km2_walk,ini)\n",
      "s0_walk = append(s0_walk,ini)\n",
      "Cons= append(Cons,ini)"
     ],
     "language": "python",
     "metadata": {},
     "outputs": [],
     "prompt_number": 29
    },
    {
     "cell_type": "markdown",
     "metadata": {},
     "source": [
      "Iteraciones para acomodacion de los datos:"
     ]
    },
    {
     "cell_type": "code",
     "collapsed": false,
     "input": [
      "n_iterations = 20000 #Numero de iteraciones al metodo a realizar\n",
      "\n",
      "for i in range(n_iterations):\n",
      "    \n",
      "    alpha_prime = np.random.normal(alpha_walk[i], 0.1) \n",
      "    beta_prime = np.random.normal(beta_walk[i], 0.1)\n",
      "    s0_prime = np.random.normal(s0_walk[i], 0.1) \n",
      "    km1_prime = np.random.normal(km1_walk[i], 0.1)\n",
      "    km2_prime = np.random.normal(km2_walk[i], 0.1) \n",
      "    beta_prime = np.random.normal(beta_walk[i], 0.1)\n",
      "    \n",
      "\"\"\"\n",
      "Alterar estos valores de tal manera que se creen \n",
      "listas de datos que varien con un input diferente de \n",
      "constantes\n",
      "\"\"\"\n",
      "\n",
      "    #y_init = my_model(x_obs, m_walk[i], b_walk[i])\n",
      "    #y_prime = my_model(x_obs, m_prime, b_prime)\n",
      "    \n",
      "    \n",
      "    \n",
      "#Verifica si se aleja o se acerca del anterior dato y agrega el \n",
      "#mejor en diferentes arrays segun la constante\n",
      "    psi = buscado(y_obs, y_prime)/buscado(y_obs, y_init)\n",
      "    if(psi>=1.0):\n",
      "        alpha_walk  = append(alpha_walk,alpha_prime)\n",
      "        beta_walk  = append(beta_walk,beta_prime)\n",
      "        s0_walk  = append(s0_walk,s0_prime)\n",
      "        km1_walk  = append(km1_walk,km1_prime)\n",
      "        km2_walk  = append(km2_walk,km2_prime)\n",
      "    else:\n",
      "        phi = random.random()\n",
      "        if(phi<=psi):\n",
      "            alpha_walk = append(alpha_walk,alpha_prime)\n",
      "            beta_walk = append(beta_walk,beta_prime)\n",
      "            s0_walk = append(s0_walk,s0_prime)\n",
      "            km1_walk = append(km1_walk,km1_prime)\n",
      "            km2_walk = append(km2_walk,km2_prime)\n",
      "        else:\n",
      "            alpha_walk = append(alpha_walk,alpha_walk[i])\n",
      "            beta_walk = append(beta_walk,beta_walk[i])\n",
      "            s0_walk = append(s0_walk,s0_walk[i])\n",
      "            km1_walk = append(km1_walk,km1_walk[i])\n",
      "            km2_walk = append(km2_walk,km2_walk[i])"
     ],
     "language": "python",
     "metadata": {},
     "outputs": [
      {
       "output_type": "pyout",
       "prompt_number": 28,
       "text": [
        "array([ 0.5])"
       ]
      }
     ],
     "prompt_number": 28
    },
    {
     "cell_type": "code",
     "collapsed": false,
     "input": [],
     "language": "python",
     "metadata": {},
     "outputs": []
    }
   ],
   "metadata": {}
  }
 ]
}